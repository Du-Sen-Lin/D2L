{
 "cells": [
  {
   "cell_type": "markdown",
   "id": "tropical-tucson",
   "metadata": {},
   "source": [
    "卷积神经网络需要的参数比多层感知机少，而且卷积神经网络很容易用GPU并行计算。\n"
   ]
  },
  {
   "cell_type": "code",
   "execution_count": null,
   "id": "ahead-thought",
   "metadata": {},
   "outputs": [],
   "source": []
  }
 ],
 "metadata": {
  "kernelspec": {
   "display_name": "Python 3",
   "language": "python",
   "name": "python3"
  },
  "language_info": {
   "codemirror_mode": {
    "name": "ipython",
    "version": 3
   },
   "file_extension": ".py",
   "mimetype": "text/x-python",
   "name": "python",
   "nbconvert_exporter": "python",
   "pygments_lexer": "ipython3",
   "version": "3.7.10"
  }
 },
 "nbformat": 4,
 "nbformat_minor": 5
}
