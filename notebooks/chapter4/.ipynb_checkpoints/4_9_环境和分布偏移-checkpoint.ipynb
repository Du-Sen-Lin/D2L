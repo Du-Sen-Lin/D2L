{
 "cells": [
  {
   "cell_type": "markdown",
   "id": "mental-latino",
   "metadata": {},
   "source": [
    "# 环境和分布偏移"
   ]
  },
  {
   "cell_type": "markdown",
   "id": "israeli-repeat",
   "metadata": {},
   "source": [
    "## 1、分布偏移"
   ]
  },
  {
   "cell_type": "markdown",
   "id": "surgical-dryer",
   "metadata": {},
   "source": [
    "### 协变量偏移\n",
    "虽然输入的分布可能随时间而改变，但标签函数（即条件分布 P(y∣x) ）没有改变。计学家称之为协变量偏移（covariate shift），因为这个问题是由于协变量（特征）分布的变化而产生的。"
   ]
  },
  {
   "cell_type": "markdown",
   "id": "expanded-excerpt",
   "metadata": {},
   "source": [
    "### 标签偏移\n",
    "标签偏移描述了与协变量偏移相反的问题。\n",
    "例如，我们可能希望根据症状（或其他表现）来预测疾病，"
   ]
  },
  {
   "cell_type": "markdown",
   "id": "certified-consciousness",
   "metadata": {},
   "source": [
    "### 概念偏移\n",
    "如果我们要建立一个机器翻译系统， P(y∣x) 的分布可能会因我们的位置不同而有所不同。"
   ]
  },
  {
   "cell_type": "markdown",
   "id": "classical-retail",
   "metadata": {},
   "source": [
    "## 2、examples\n",
    "\n",
    "当分布变化缓慢并且模型没有得到充分更新时，就会出现更微妙的情况：非平稳分布"
   ]
  },
  {
   "cell_type": "markdown",
   "id": "acknowledged-title",
   "metadata": {},
   "source": [
    "## 3、分布偏移纠正"
   ]
  },
  {
   "cell_type": "markdown",
   "id": "light-century",
   "metadata": {},
   "source": [
    "### 经验风险与真实风险\n",
    "\n",
    "模型训练：L是损失函数，用来度量给定响应标签yi，预测f(xi)的“糟糕程度”,这被称为经验风险。\n",
    "\n",
    "经验风险 （empirical risk）是 为了近似 真实风险（true risk）。经验风险最小化即在 (4.9.1) 中最小化经验风险，是一种实用的机器学习策略，希望能近似最小化真实风险。"
   ]
  },
  {
   "cell_type": "markdown",
   "id": "graduate-reflection",
   "metadata": {},
   "source": [
    "### 协变量偏移纠正"
   ]
  },
  {
   "cell_type": "code",
   "execution_count": null,
   "id": "chief-photograph",
   "metadata": {},
   "outputs": [],
   "source": []
  }
 ],
 "metadata": {
  "kernelspec": {
   "display_name": "Python 3",
   "language": "python",
   "name": "python3"
  },
  "language_info": {
   "codemirror_mode": {
    "name": "ipython",
    "version": 3
   },
   "file_extension": ".py",
   "mimetype": "text/x-python",
   "name": "python",
   "nbconvert_exporter": "python",
   "pygments_lexer": "ipython3",
   "version": "3.7.10"
  }
 },
 "nbformat": 4,
 "nbformat_minor": 5
}
