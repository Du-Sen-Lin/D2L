{
 "cells": [
  {
   "cell_type": "markdown",
   "id": "august-recycling",
   "metadata": {},
   "source": [
    "块可以描述单个层、由多个层组成的组件或整个模型本身。"
   ]
  },
  {
   "cell_type": "code",
   "execution_count": 1,
   "id": "atmospheric-exemption",
   "metadata": {},
   "outputs": [],
   "source": [
    "import torch\n",
    "from torch import nn\n",
    "from torch.nn import functional as F"
   ]
  },
  {
   "cell_type": "code",
   "execution_count": 21,
   "id": "separate-involvement",
   "metadata": {},
   "outputs": [
    {
     "data": {
      "text/plain": [
       "tensor([[-0.0859, -0.0958,  0.0541,  0.1595,  0.2311,  0.1572, -0.2705, -0.0579,\n",
       "         -0.2877,  0.0735],\n",
       "        [-0.1911, -0.2048,  0.0515,  0.2281,  0.2460,  0.1756, -0.1646, -0.0616,\n",
       "         -0.3200,  0.0277]], grad_fn=<AddmmBackward>)"
      ]
     },
     "execution_count": 21,
     "metadata": {},
     "output_type": "execute_result"
    }
   ],
   "source": [
    "net = nn.Sequential(\n",
    "    nn.Linear(20, 256), \n",
    "    nn.ReLU(), \n",
    "    nn.Linear(256, 10))\n",
    "\n",
    "X = torch.rand(2, 20)\n",
    "net(X)"
   ]
  },
  {
   "cell_type": "markdown",
   "id": "buried-calculation",
   "metadata": {},
   "source": [
    "## 1、自定义块"
   ]
  },
  {
   "cell_type": "code",
   "execution_count": 60,
   "id": "quality-conviction",
   "metadata": {},
   "outputs": [],
   "source": [
    "class MLP(nn.Module):\n",
    "    # 用模型参数声明层。这里，我们声明两个全连接的层\n",
    "    def __init__(self):\n",
    "        # 调用`MLP`的父类`Block`的构造函数来执行必要的初始化。\n",
    "        # 这样，在类实例化时也可以指定其他函数参数，例如模型参数`params`（稍后将介绍）\n",
    "        super().__init__()\n",
    "        self.hidden = nn.Linear(20, 256)  # 隐藏层\n",
    "        self.out = nn.Linear(256, 10)  # 输出层\n",
    "\n",
    "    # 定义模型的正向传播，即如何根据输入`X`返回所需的模型输出\n",
    "    def forward(self, X):\n",
    "        # 注意，这里我们使用ReLU的函数版本，其在nn.functional模块中定义。\n",
    "        return self.out(F.relu(self.hidden(X)))"
   ]
  },
  {
   "cell_type": "code",
   "execution_count": 61,
   "id": "severe-integration",
   "metadata": {},
   "outputs": [
    {
     "data": {
      "text/plain": [
       "tensor([[ 0.1048,  0.0016, -0.1699,  0.2145, -0.1364, -0.0865,  0.2156, -0.2087,\n",
       "          0.0886, -0.0860],\n",
       "        [ 0.0477,  0.0678, -0.0277,  0.2307, -0.0793, -0.0828,  0.2562, -0.0081,\n",
       "          0.0061, -0.1113]], grad_fn=<AddmmBackward>)"
      ]
     },
     "execution_count": 61,
     "metadata": {},
     "output_type": "execute_result"
    }
   ],
   "source": [
    "net = MLP()\n",
    "net(X)"
   ]
  },
  {
   "cell_type": "markdown",
   "id": "magnetic-capture",
   "metadata": {},
   "source": [
    "## 2、顺序块\n",
    "构建我们自己的简化的MySequential.\n",
    "\n",
    "定义两个关键函数： 1. 一种将块逐个追加到列表中的函数。 2. 一种正向传播函数，用于将输入按追加块的顺序传递给块组成的“链条”。"
   ]
  },
  {
   "cell_type": "code",
   "execution_count": 62,
   "id": "instructional-drilling",
   "metadata": {},
   "outputs": [],
   "source": [
    "class MySequential(nn.Module):\n",
    "    def __init__(self, *args):\n",
    "        super().__init__()\n",
    "        for block in args:\n",
    "            # 这里，`block`是`Module`子类的一个实例。我们把它保存在'Module'类的成员变量\n",
    "            # `_children` 中。`block`的类型是OrderedDict。\n",
    "            self._modules[block] = block\n",
    "\n",
    "    def forward(self, X):\n",
    "        # OrderedDict保证了按照成员添加的顺序遍历它们\n",
    "        for block in self._modules.values():\n",
    "            X = block(X)\n",
    "        return X"
   ]
  },
  {
   "cell_type": "markdown",
   "id": "sonic-prague",
   "metadata": {},
   "source": [
    "在__init__方法中，我们将每个块逐个添加到有序字典_modules中。\n",
    "\n",
    "为何使用_modules? : _modules的主要优点是，在块的参数初始化过程中，系统知道在_modules字典中查找需要初始化参数的子块。"
   ]
  },
  {
   "cell_type": "code",
   "execution_count": 71,
   "id": "julian-ballet",
   "metadata": {},
   "outputs": [
    {
     "data": {
      "text/plain": [
       "tensor([[-0.0665, -0.0554,  0.2613,  0.2403,  0.1197, -0.0631,  0.0226, -0.0471,\n",
       "          0.1158, -0.2449],\n",
       "        [ 0.0840, -0.1181,  0.1089,  0.1512,  0.0175, -0.0762, -0.1529, -0.1070,\n",
       "          0.2320, -0.2841]], grad_fn=<AddmmBackward>)"
      ]
     },
     "execution_count": 71,
     "metadata": {},
     "output_type": "execute_result"
    }
   ],
   "source": [
    "net = MySequential(nn.Linear(20, 256), nn.ReLU(), nn.Linear(256, 10))\n",
    "net(X)"
   ]
  },
  {
   "cell_type": "markdown",
   "id": "august-transcript",
   "metadata": {},
   "source": [
    "## 3、在正向函数传播中执行代码\n",
    "在正向传播函数中执行Python的控制流。\n",
    "\n",
    "在这个FixedHiddenMLP模型中，我们实现了一个隐藏层，其权重（self.rand_weight）在实例化时被随机初始化，之后为常量。这个权重不是一个模型参数，因此它永远不会被反向传播更新。"
   ]
  },
  {
   "cell_type": "code",
   "execution_count": 78,
   "id": "rational-reproduction",
   "metadata": {},
   "outputs": [],
   "source": [
    "class FixedHiddenMLP(nn.Module):\n",
    "    def __init__(self):\n",
    "        super().__init__()\n",
    "        # 不计算梯度的随机权重参数。因此其在训练期间保持不变。\n",
    "        self.rand_weight = torch.rand((20, 20), requires_grad=False)\n",
    "        self.linear = nn.Linear(20, 20)\n",
    "\n",
    "    def forward(self, X):\n",
    "        X = self.linear(X)\n",
    "        # 使用创建的常量参数以及`relu`和`dot`函数。\n",
    "        X = F.relu(torch.mm(X, self.rand_weight) + 1)\n",
    "        # 复用全连接层。这相当于两个全连接层共享参数。\n",
    "        X = self.linear(X)\n",
    "        # 控制流\n",
    "        while X.abs().sum() > 1:\n",
    "            X /= 2\n",
    "        return X.sum()"
   ]
  },
  {
   "cell_type": "code",
   "execution_count": 79,
   "id": "premium-imagination",
   "metadata": {},
   "outputs": [
    {
     "data": {
      "text/plain": [
       "tensor(-0.0059, grad_fn=<SumBackward0>)"
      ]
     },
     "execution_count": 79,
     "metadata": {},
     "output_type": "execute_result"
    }
   ],
   "source": [
    "net = FixedHiddenMLP()\n",
    "net(X)"
   ]
  },
  {
   "cell_type": "markdown",
   "id": "utility-facing",
   "metadata": {},
   "source": [
    "混合搭配各种组合块的方法"
   ]
  },
  {
   "cell_type": "code",
   "execution_count": 80,
   "id": "cardiovascular-opportunity",
   "metadata": {},
   "outputs": [],
   "source": [
    "class NestMLP(nn.Module):\n",
    "    def __init__(self):\n",
    "        super().__init__()\n",
    "        self.net = nn.Sequential(nn.Linear(20, 64), \n",
    "                                 nn.ReLU(), \n",
    "                                 nn.Linear(64, 32), \n",
    "                                 nn.ReLU())\n",
    "        self.linear = nn.Linear(32, 16)\n",
    "        \n",
    "    def forward(self, X):\n",
    "        return self.linear(self.net(X))"
   ]
  },
  {
   "cell_type": "code",
   "execution_count": 83,
   "id": "global-oklahoma",
   "metadata": {},
   "outputs": [],
   "source": [
    "chimera = nn.Sequential(NestMLP(), nn.Linear(16, 20), FixedHiddenMLP())"
   ]
  },
  {
   "cell_type": "code",
   "execution_count": 86,
   "id": "intellectual-value",
   "metadata": {},
   "outputs": [
    {
     "data": {
      "text/plain": [
       "(Sequential(\n",
       "   (0): NestMLP(\n",
       "     (net): Sequential(\n",
       "       (0): Linear(in_features=20, out_features=64, bias=True)\n",
       "       (1): ReLU()\n",
       "       (2): Linear(in_features=64, out_features=32, bias=True)\n",
       "       (3): ReLU()\n",
       "     )\n",
       "     (linear): Linear(in_features=32, out_features=16, bias=True)\n",
       "   )\n",
       "   (1): Linear(in_features=16, out_features=20, bias=True)\n",
       "   (2): FixedHiddenMLP(\n",
       "     (linear): Linear(in_features=20, out_features=20, bias=True)\n",
       "   )\n",
       " ),\n",
       " tensor(-0.1731, grad_fn=<SumBackward0>))"
      ]
     },
     "execution_count": 86,
     "metadata": {},
     "output_type": "execute_result"
    }
   ],
   "source": [
    "chimera, chimera(X)"
   ]
  },
  {
   "cell_type": "code",
   "execution_count": null,
   "id": "junior-cisco",
   "metadata": {},
   "outputs": [],
   "source": []
  }
 ],
 "metadata": {
  "kernelspec": {
   "display_name": "Python 3",
   "language": "python",
   "name": "python3"
  },
  "language_info": {
   "codemirror_mode": {
    "name": "ipython",
    "version": 3
   },
   "file_extension": ".py",
   "mimetype": "text/x-python",
   "name": "python",
   "nbconvert_exporter": "python",
   "pygments_lexer": "ipython3",
   "version": "3.7.10"
  }
 },
 "nbformat": 4,
 "nbformat_minor": 5
}
