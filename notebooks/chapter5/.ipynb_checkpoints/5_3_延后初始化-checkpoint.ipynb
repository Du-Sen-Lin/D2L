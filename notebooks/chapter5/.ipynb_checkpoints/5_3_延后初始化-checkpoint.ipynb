{
 "cells": [
  {
   "cell_type": "markdown",
   "id": "spanish-vector",
   "metadata": {},
   "source": [
    "# 延后初始化\n",
    "框架的延后初始化（defers initialization），即等到我们第一次将数据通过模型传递时，才会动态地推断出每个层的大小。\n",
    "\n",
    "当使用卷积神经网络时，由于输入维度（即图像的分辨率）将影响每个后续层的维数，因此该技术将变得更加方便。现在我们在编写代码时无需知道维度是什么就可以设置参数，这种能力可以大大简化定义和修改模型的任务。"
   ]
  },
  {
   "cell_type": "code",
   "execution_count": null,
   "id": "affiliated-growing",
   "metadata": {},
   "outputs": [],
   "source": []
  }
 ],
 "metadata": {
  "kernelspec": {
   "display_name": "Python 3",
   "language": "python",
   "name": "python3"
  },
  "language_info": {
   "codemirror_mode": {
    "name": "ipython",
    "version": 3
   },
   "file_extension": ".py",
   "mimetype": "text/x-python",
   "name": "python",
   "nbconvert_exporter": "python",
   "pygments_lexer": "ipython3",
   "version": "3.7.10"
  }
 },
 "nbformat": 4,
 "nbformat_minor": 5
}
