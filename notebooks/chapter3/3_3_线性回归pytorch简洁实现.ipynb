{
 "cells": [
  {
   "cell_type": "markdown",
   "id": "polished-chassis",
   "metadata": {},
   "source": [
    "## 1、生成数据集"
   ]
  },
  {
   "cell_type": "code",
   "execution_count": 3,
   "id": "unavailable-costs",
   "metadata": {},
   "outputs": [],
   "source": [
    "import numpy as np\n",
    "import torch\n",
    "from torch.utils import data\n",
    "# from d2l import torch as d2l\n",
    "\n",
    "true_w = torch.tensor([2, -3.4])\n",
    "true_b = 4.2\n",
    "\n",
    "\n",
    "\n",
    "def synthetic_data(w, b, num_examples):  #@save\n",
    "    \"\"\"生成 y = Xw + b + 噪声。\"\"\"\n",
    "    X = torch.normal(0, 1, (num_examples, len(w)))\n",
    "    y = torch.matmul(X, w) + b\n",
    "#     print(y.shape)\n",
    "    y += torch.normal(0, 0.01, y.shape) #torch.normal(means, std, out=None)\n",
    "#     print(X)\n",
    "#     print(y)\n",
    "    return X, y.reshape((-1, 1))\n",
    "\n",
    "\n",
    "# features, labels = d2l.synthetic_data(true_w, true_b, 1000)\n",
    "features, labels = synthetic_data(true_w, true_b, 1000)"
   ]
  },
  {
   "cell_type": "markdown",
   "id": "inclusive-screen",
   "metadata": {},
   "source": [
    "## 2、读取数据集"
   ]
  },
  {
   "cell_type": "code",
   "execution_count": 4,
   "id": "funded-massachusetts",
   "metadata": {},
   "outputs": [],
   "source": [
    "def load_array(data_arrays, batch_size, is_train=True):  #@save\n",
    "    \"\"\"构造一个PyTorch数据迭代器。\"\"\"\n",
    "    dataset = data.TensorDataset(*data_arrays)\n",
    "    return data.DataLoader(dataset, batch_size, shuffle=is_train)\n",
    "\n",
    "batch_size = 10\n",
    "data_iter = load_array((features, labels), batch_size)"
   ]
  },
  {
   "cell_type": "code",
   "execution_count": 5,
   "id": "olive-benjamin",
   "metadata": {},
   "outputs": [
    {
     "data": {
      "text/plain": [
       "[tensor([[ 1.4695,  1.0947],\n",
       "         [ 1.4480,  1.0072],\n",
       "         [ 0.6078,  1.1212],\n",
       "         [ 1.7217,  0.2664],\n",
       "         [ 0.6093,  1.6815],\n",
       "         [-1.2784, -0.3523],\n",
       "         [-0.9550, -1.2661],\n",
       "         [ 0.7224,  2.1331],\n",
       "         [ 0.6544,  0.9155],\n",
       "         [ 0.4345,  0.5981]]),\n",
       " tensor([[ 3.4030],\n",
       "         [ 3.6709],\n",
       "         [ 1.6090],\n",
       "         [ 6.7467],\n",
       "         [-0.2840],\n",
       "         [ 2.8313],\n",
       "         [ 6.5723],\n",
       "         [-1.6186],\n",
       "         [ 2.3873],\n",
       "         [ 3.0139]])]"
      ]
     },
     "execution_count": 5,
     "metadata": {},
     "output_type": "execute_result"
    }
   ],
   "source": [
    "next(iter(data_iter))"
   ]
  },
  {
   "cell_type": "markdown",
   "id": "coastal-prefix",
   "metadata": {},
   "source": [
    "## 3、定义模型\n",
    "\n",
    "在 PyTorch 中，全连接层在 Linear 类中定义；\n",
    "\n",
    "值得注意的是，我们将两个参数传递到 nn.Linear 中。第一个指定输入特征形状，即 2，第二个指定输出特征形状，输出特征形状为单个标量，因此为 1。"
   ]
  },
  {
   "cell_type": "code",
   "execution_count": 6,
   "id": "premium-myanmar",
   "metadata": {},
   "outputs": [],
   "source": [
    "# `nn` 是神经网络的缩写\n",
    "from torch import nn\n",
    "\n",
    "net = nn.Sequential(nn.Linear(2, 1))"
   ]
  },
  {
   "cell_type": "markdown",
   "id": "macro-phone",
   "metadata": {},
   "source": [
    "## 4、初始化模型参数\n",
    "正如我们在构造 nn.Linear 时指定输入和输出尺寸一样。现在我们直接访问参数以设定初始值。我们通过 net[0] 选择网络中的第一个图层，然后使用 weight.data 和 bias.data 方法访问参数。然后使用替换方法 normal_ 和 fill_ 来重写参数值。"
   ]
  },
  {
   "cell_type": "code",
   "execution_count": 7,
   "id": "racial-oliver",
   "metadata": {},
   "outputs": [
    {
     "data": {
      "text/plain": [
       "tensor([0.])"
      ]
     },
     "execution_count": 7,
     "metadata": {},
     "output_type": "execute_result"
    }
   ],
   "source": [
    "net[0].weight.data.normal_(0, 0.01)\n",
    "net[0].bias.data.fill_(0)"
   ]
  },
  {
   "cell_type": "markdown",
   "id": "absolute-acceptance",
   "metadata": {},
   "source": [
    "## 5、定义损失函数\n",
    "\n",
    "计算均方误差使用的是MSELoss类，也称为平方  L2  范数。默认情况下，它返回所有样本损失的平均值。"
   ]
  },
  {
   "cell_type": "code",
   "execution_count": 8,
   "id": "going-intervention",
   "metadata": {},
   "outputs": [],
   "source": [
    "loss = nn.MSELoss()"
   ]
  },
  {
   "cell_type": "markdown",
   "id": "refined-least",
   "metadata": {},
   "source": [
    "## 6、定义优化算法\n",
    "\n",
    "小批量随机梯度下降算法是一种优化神经网络的标准工具，PyTorch 在 optim 模块中实现了该算法的许多变种。当我们实例化 SGD 实例时，我们要指定优化的参数（可通过 net.parameters() 从我们的模型中获得）以及优化算法所需的超参数字典。小批量随机梯度下降只需要设置 lr值，这里设置为 0.03。"
   ]
  },
  {
   "cell_type": "code",
   "execution_count": 9,
   "id": "requested-columbus",
   "metadata": {},
   "outputs": [],
   "source": [
    "import torch\n",
    "trainer = torch.optim.SGD(net.parameters(), lr=0.03)"
   ]
  },
  {
   "cell_type": "markdown",
   "id": "fuzzy-produce",
   "metadata": {},
   "source": [
    "## 7、训练\n",
    "\n",
    "在每个迭代周期里，我们将完整遍历一次数据集（train_data），不停地从中获取一个小批量的输入和相应的标签。对于每一个小批量，我们会进行以下步骤:\n",
    "\n",
    "    通过调用 net(X) 生成预测并计算损失 l（正向传播）。\n",
    "\n",
    "    通过进行反向传播来计算梯度。\n",
    "\n",
    "    通过调用优化器来更新模型参数。\n",
    "\n",
    "为了更好的衡量训练效果，我们计算每个迭代周期后的损失，并打印它来监控训练过程。"
   ]
  },
  {
   "cell_type": "code",
   "execution_count": 10,
   "id": "chemical-authentication",
   "metadata": {},
   "outputs": [
    {
     "name": "stdout",
     "output_type": "stream",
     "text": [
      "epoch 1, loss 0.000355\n",
      "epoch 2, loss 0.000096\n",
      "epoch 3, loss 0.000095\n"
     ]
    }
   ],
   "source": [
    "num_epochs = 3\n",
    "for epoch in range(num_epochs):\n",
    "    for X, y in data_iter:\n",
    "        l = loss(net(X), y)\n",
    "        trainer.zero_grad()\n",
    "        l.backward()\n",
    "        trainer.step()\n",
    "    l = loss(net(features), labels)\n",
    "    print(f'epoch {epoch + 1}, loss {l:f}')"
   ]
  },
  {
   "cell_type": "code",
   "execution_count": 11,
   "id": "desperate-latter",
   "metadata": {},
   "outputs": [
    {
     "name": "stdout",
     "output_type": "stream",
     "text": [
      "w的估计误差： tensor([0.0002, 0.0002])\n",
      "b的估计误差： tensor([0.0009])\n"
     ]
    }
   ],
   "source": [
    "w = net[0].weight.data\n",
    "print('w的估计误差：', true_w - w.reshape(true_w.shape))\n",
    "b = net[0].bias.data\n",
    "print('b的估计误差：', true_b - b)"
   ]
  },
  {
   "cell_type": "code",
   "execution_count": null,
   "id": "russian-visitor",
   "metadata": {},
   "outputs": [],
   "source": []
  }
 ],
 "metadata": {
  "kernelspec": {
   "display_name": "Python 3",
   "language": "python",
   "name": "python3"
  },
  "language_info": {
   "codemirror_mode": {
    "name": "ipython",
    "version": 3
   },
   "file_extension": ".py",
   "mimetype": "text/x-python",
   "name": "python",
   "nbconvert_exporter": "python",
   "pygments_lexer": "ipython3",
   "version": "3.7.10"
  }
 },
 "nbformat": 4,
 "nbformat_minor": 5
}
